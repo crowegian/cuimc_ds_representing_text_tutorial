{
 "cells": [
  {
   "cell_type": "markdown",
   "metadata": {},
   "source": [
    "# Learning Goal\n",
    "Understand why natural language processing and text representation are important, the different ways to represent text, and how to implement a few simple textual representations"
   ]
  },
  {
   "cell_type": "code",
   "execution_count": 63,
   "metadata": {},
   "outputs": [],
   "source": [
    "# from gensim.test.utils import get_tmpfile\n",
    "from gensim.models import Word2Vec\n",
    "from gensim.summarization.textcleaner import split_sentences, tokenize_by_word\n",
    "# conda install -c anaconda gensim\n",
    "# pip install --upgrade gensim"
   ]
  },
  {
   "cell_type": "code",
   "execution_count": 7,
   "metadata": {},
   "outputs": [],
   "source": [
    "# Process the original pubmed download. This is just so you can see how it's done. We won't work with the xml file.\n",
    "n_abs = 0\n",
    "with open(\"data/pubmed_sample.txt\", \"w\") as outfile:\n",
    "    with open(\"data/pubmed20n0001.xml\", \"r\") as pubmed_file:\n",
    "        for line in pubmed_file:\n",
    "            if \"<AbstractText>\" in line:\n",
    "                line = line.strip()\n",
    "                line = line.replace(\"<AbstractText>\", \"\").replace(\"</AbstractText>\", \"\")\n",
    "                outfile.write(line + \"\\n\")\n",
    "                n_abs += 1\n",
    "print(n_abs, \"abstracts processed\")"
   ]
  },
  {
   "cell_type": "code",
   "execution_count": 9,
   "metadata": {},
   "outputs": [
    {
     "name": "stdout",
     "output_type": "stream",
     "text": [
      "15437 abstracts read in\n"
     ]
    }
   ],
   "source": [
    "abstract_list = []\n",
    "with open(\"data/pubmed_sample.txt\", \"r\") as abstract_file:\n",
    "    for line in abstract_file:\n",
    "        abstract_list.append(line.strip())\n",
    "print(len(abstract_list), \"abstracts read in\")\n",
    "# TODO need to split into sentences"
   ]
  },
  {
   "cell_type": "code",
   "execution_count": 10,
   "metadata": {
    "scrolled": true
   },
   "outputs": [
    {
     "name": "stdout",
     "output_type": "stream",
     "text": [
      "(--)-alpha-Bisabolol has a primary antipeptic action depending on dosage, which is not caused by an alteration of the pH-value. The proteolytic activity of pepsin is reduced by 50 percent through addition of bisabolol in the ratio of 1/0.5. The antipeptic action of bisabolol only occurs in case of direct contact. In case of a previous contact with the substrate, the inhibiting effect is lost.\n",
      "***************************************************\n",
      "\n",
      "\n",
      "\n",
      "A report is given on the recent discovery of outstanding immunological properties in BA 1 [N-(2-cyanoethylene)-urea] having a (low) molecular mass M = 111.104. Experiments in 214 DS carcinosarcoma bearing Wistar rats have shown that BA 1, at a dosage of only about 12 percent LD50 (150 mg kg) and negligible lethality (1.7 percent), results in a recovery rate of 40 percent without hyperglycemia and, in one test, of 80 percent with hyperglycemia. Under otherwise unchanged conditions the reference substance ifosfamide (IF) -- a further development of cyclophosphamide -- applied without hyperglycemia in its most efficient dosage of 47 percent LD50 (150 mg kg) brought about a recovery rate of 25 percent at a lethality of 18 percent. (Contrary to BA 1, 250-min hyperglycemia caused no further improvement of the recovery rate.) However this comparison is characterized by the fact that both substances exhibit two quite different (complementary) mechanisms of action. Leucocyte counts made after application of the said cancerostatics and dosages have shown a pronounced stimulation with BA 1 and with ifosfamide, the known suppression in the post-therapeutic interval usually found with standard cancerostatics. In combination with the cited plaque test for BA 1, blood pictures then allow conclusions on the immunity status. Since IF can be taken as one of the most efficient cancerostatics--there is no other chemotherapeutic known up to now that has a more significant effect on the DS carcinosarcoma in rats -- these findings are of special importance. Finally, the total amount of leucocytes and lymphocytes as well as their time behaviour was determined from the blood picture of tumour-free rats after i.v. application of BA 1. The thus obtained numerical values clearly show that further research work on the prophylactic use of this substance seems to be necessary and very promising.\n",
      "***************************************************\n",
      "\n",
      "\n",
      "\n",
      "The distribution of blood flow to the subendocardial, medium and subepicardial layers of the left ventricular free wall was studied in anaesthetized dogs under normoxic (A), hypoxic (B) conditions and under pharmacologically induced (etafenone) coronary vasodilation (C). Regional myocardial blood flow was determined by means of the particle distribution method. In normoxia a transmural gradient of flow was observed, with the subendocardial layers receiving a significantly higher flow rate compared with the subepicardial layers. In hypoxia induced vasodilation this transmural gradient of flow was persistent. In contrast a marked redistribution of regional flow was observed under pharmacologically induced vasodilation. The transmural gradient decreased. In contrast to some findings these experiments demonstrate that a considerable vasodilatory capacity exists in all layers of the myocardium and can be utilized by drugs. The differences observed for the intramural distribution pattern of flow under hypoxia and drug induced vasodilation support the hypothesis that this pattern reflects corresponding gradients of regional myocardial metabolism.\n",
      "***************************************************\n",
      "\n",
      "\n",
      "\n",
      "The virostatic compound N,N-diethyl-4-[2-(2-oxo-3-tetradecyl-1-imidazolidinyl)-ethyl]-1-piperazinecarboxamide-hydrochloride (5531) was analyzed as to its effect on the induction of tryptophan-pyrrolase and tyrosineaminotransferase in rat liver. 1. The basic activity of the enzymes was not influenced by the substance either in normal or in adrenalectomized animals. 2. The induction of the enzymes by cortisone increased in the presence of the compound whereas the substrate induction remained unchanged. 3. The induction of tyrosine-aminotransferase by dexamethasonephosphate in tissue culture is inhibited if the dose of compound 5531 is higher than 5 mug/ml.\n",
      "***************************************************\n",
      "\n",
      "\n",
      "\n",
      "RMI 61 140, RMI 61 144 and RMI 61 280 are newly synthetized N-[8-R-dibenzo(b,f)oxepin-10-yl]-N'-methyl-piperazine-maleates which show interesting psychopharmacologic effects. This work contains the results of a study performed with these three compounds, in order to demonstrate their neuropsycholeptic activity in comparison with chloropromazine (CPZ) and chlordiazepoxide (CPD). The inhibition of motility observed in mice shows that the compounds reduce the normal spontaneous motility as well as the muscle tone. The central-depressant activity is evidenced by increased barbiturate-induced sleep and a remarkable eyelid ptosis can also be observed. Our compounds do not show any activity on electroshock just as do CPZ and CPD. As to the antipsychotic outline, our compounds show strong reduction of lethality due to amphetamine in grouped mice and a strong antiapomorphine activity. They show also an antiaggressive effect and an inhibitory activity on avoidance behaviour much stronger than CPZ. We have also found extrapyramidal effects, as catalepsy, common to many tranquillizers of the kind of the standards used by us. As for vegetative phenomena, the compounds show hypotensive dose related action ranging from moderate to strong, probably due to an a-receptor inhibition. Adrenolytic activity against lethal doses of adrenaline, antiserotonin and antihistaminic effects, as well as other actions (hypothermia, analgesia, etc.) confirm that RMI 61 140, RMI 61 144 and RMI 61 280 are endowed with pharmacologic properties similar and more potent than those of CPZ. Studies on the metabolism of brain catecholamines show that they are similar to CPZ, although with less effect on dopamine level.\n",
      "***************************************************\n",
      "\n",
      "\n",
      "\n"
     ]
    }
   ],
   "source": [
    "for i in range(5):\n",
    "    print(abstract_list[i])\n",
    "    print(\"***************************************************\\n\\n\\n\")"
   ]
  },
  {
   "cell_type": "code",
   "execution_count": 60,
   "metadata": {},
   "outputs": [
    {
     "name": "stdout",
     "output_type": "stream",
     "text": [
      "101724 sentences extracted\n"
     ]
    }
   ],
   "source": [
    "sentence_list = []\n",
    "for abstract in abstract_list:\n",
    "    sentences = split_sentences(abstract)\n",
    "    for sentence in sentences:\n",
    "        sentence_list.append(sentence)\n",
    "print(len(sentence_list), \"sentences extracted\")"
   ]
  },
  {
   "cell_type": "code",
   "execution_count": 32,
   "metadata": {},
   "outputs": [
    {
     "name": "stdout",
     "output_type": "stream",
     "text": [
      "(--)-alpha-Bisabolol has a primary antipeptic action depending on dosage, which is not caused by an alteration of the pH-value.\n",
      "***************************************************\n",
      "\n",
      "The proteolytic activity of pepsin is reduced by 50 percent through addition of bisabolol in the ratio of 1/0.5.\n",
      "***************************************************\n",
      "\n",
      "The antipeptic action of bisabolol only occurs in case of direct contact.\n",
      "***************************************************\n",
      "\n",
      "In case of a previous contact with the substrate, the inhibiting effect is lost.\n",
      "***************************************************\n",
      "\n",
      "A report is given on the recent discovery of outstanding immunological properties in BA 1 [N-(2-cyanoethylene)-urea] having a (low) molecular mass M = 111.104.\n",
      "***************************************************\n",
      "\n"
     ]
    }
   ],
   "source": [
    "for i in range(5):\n",
    "    print(sentence_list[i])\n",
    "    print(\"***************************************************\\n\")"
   ]
  },
  {
   "cell_type": "code",
   "execution_count": 57,
   "metadata": {},
   "outputs": [
    {
     "data": {
      "text/plain": [
       "'(--)-alpha-Bisabolol has a primary antipeptic action depending on dosage, which is not caused by an alteration of the pH-value.'"
      ]
     },
     "execution_count": 57,
     "metadata": {},
     "output_type": "execute_result"
    }
   ],
   "source": [
    "sentence_list[0]"
   ]
  },
  {
   "cell_type": "code",
   "execution_count": null,
   "metadata": {},
   "outputs": [],
   "source": []
  },
  {
   "cell_type": "code",
   "execution_count": 67,
   "metadata": {},
   "outputs": [],
   "source": [
    "# One more step. Word2Vec expects a lists of text, where each text is a list of tokens, or words.\n",
    "abstract_list_tokenized = []\n",
    "for abstract in abstract_list:\n",
    "    tokens = list(tokenize_by_word(abstract))\n",
    "    abstract_list_tokenized.append(tokens)"
   ]
  },
  {
   "cell_type": "code",
   "execution_count": 73,
   "metadata": {},
   "outputs": [],
   "source": [
    "sentence_list_tokenized = []\n",
    "for sentence in sentence_list:\n",
    "    tokens = list(tokenize_by_word(sentence))\n",
    "    sentence_list_tokenized.append(tokens)"
   ]
  },
  {
   "cell_type": "code",
   "execution_count": 70,
   "metadata": {},
   "outputs": [
    {
     "data": {
      "text/plain": [
       "'(--)-alpha-Bisabolol has a primary antipeptic action depending on dosage, which is not caused by an alteration of the pH-value. The proteolytic activity of pepsin is reduced by 50 percent through addition of bisabolol in the ratio of 1/0.5. The antipeptic action of bisabolol only occurs in case of direct contact. In case of a previous contact with the substrate, the inhibiting effect is lost.'"
      ]
     },
     "execution_count": 70,
     "metadata": {},
     "output_type": "execute_result"
    }
   ],
   "source": [
    "abstract_list[0]"
   ]
  },
  {
   "cell_type": "code",
   "execution_count": 71,
   "metadata": {
    "scrolled": true
   },
   "outputs": [
    {
     "data": {
      "text/plain": [
       "['alpha',\n",
       " 'bisabolol',\n",
       " 'has',\n",
       " 'a',\n",
       " 'primary',\n",
       " 'antipeptic',\n",
       " 'action',\n",
       " 'depending',\n",
       " 'on',\n",
       " 'dosage',\n",
       " 'which',\n",
       " 'is',\n",
       " 'not',\n",
       " 'caused',\n",
       " 'by',\n",
       " 'an',\n",
       " 'alteration',\n",
       " 'of',\n",
       " 'the',\n",
       " 'ph',\n",
       " 'value',\n",
       " 'the',\n",
       " 'proteolytic',\n",
       " 'activity',\n",
       " 'of',\n",
       " 'pepsin',\n",
       " 'is',\n",
       " 'reduced',\n",
       " 'by',\n",
       " 'percent',\n",
       " 'through',\n",
       " 'addition',\n",
       " 'of',\n",
       " 'bisabolol',\n",
       " 'in',\n",
       " 'the',\n",
       " 'ratio',\n",
       " 'of',\n",
       " 'the',\n",
       " 'antipeptic',\n",
       " 'action',\n",
       " 'of',\n",
       " 'bisabolol',\n",
       " 'only',\n",
       " 'occurs',\n",
       " 'in',\n",
       " 'case',\n",
       " 'of',\n",
       " 'direct',\n",
       " 'contact',\n",
       " 'in',\n",
       " 'case',\n",
       " 'of',\n",
       " 'a',\n",
       " 'previous',\n",
       " 'contact',\n",
       " 'with',\n",
       " 'the',\n",
       " 'substrate',\n",
       " 'the',\n",
       " 'inhibiting',\n",
       " 'effect',\n",
       " 'is',\n",
       " 'lost']"
      ]
     },
     "execution_count": 71,
     "metadata": {},
     "output_type": "execute_result"
    }
   ],
   "source": [
    "abstract_list_tokenized[0]"
   ]
  },
  {
   "cell_type": "code",
   "execution_count": null,
   "metadata": {},
   "outputs": [],
   "source": []
  },
  {
   "cell_type": "code",
   "execution_count": 126,
   "metadata": {},
   "outputs": [],
   "source": [
    "model_abstract = Word2Vec(\n",
    "                sentences = abstract_list_tokenized, # corpus we're using to train on\n",
    "                size=100, # dimension of the word embeddings\n",
    "                window=5, # max distance between a current and predicted word in a sentence.\n",
    "                min_count=1,# words must occur at least min_count times to be learned.\n",
    "                workers=6, # number of threads to use to train the model.\n",
    "                iter=5, # How many times to iterate through the data\n",
    "                )"
   ]
  },
  {
   "cell_type": "code",
   "execution_count": null,
   "metadata": {},
   "outputs": [],
   "source": [
    "model_sentence = Word2Vec(\n",
    "                sentences = sentence_list_tokenized, # corpus we're using to train on\n",
    "                size=100, # dimension of the word embeddings\n",
    "                window=5, # max distance between a current and predicted word in a sentence.\n",
    "                min_count=5,# words must occur at least min_count times to be learned.\n",
    "                workers=6, # number of threads to use to train the model.\n",
    "                iter=5, # How many times to iterate through the data\n",
    "                )"
   ]
  },
  {
   "cell_type": "code",
   "execution_count": 115,
   "metadata": {},
   "outputs": [],
   "source": [
    "embeddings = model_abstract.wv"
   ]
  },
  {
   "cell_type": "code",
   "execution_count": 116,
   "metadata": {
    "scrolled": true
   },
   "outputs": [
    {
     "data": {
      "text/plain": [
       "(49667, 100)"
      ]
     },
     "execution_count": 116,
     "metadata": {},
     "output_type": "execute_result"
    }
   ],
   "source": [
    "embeddings.vectors.shape"
   ]
  },
  {
   "cell_type": "code",
   "execution_count": 108,
   "metadata": {},
   "outputs": [
    {
     "data": {
      "text/plain": [
       "[('doses', 0.7100783586502075),\n",
       " ('dosages', 0.6892666816711426),\n",
       " ('dose', 0.6707139015197754),\n",
       " ('cost', 0.6541118621826172),\n",
       " ('daily', 0.646964430809021),\n",
       " ('therapeutic', 0.6453495025634766),\n",
       " ('therapy', 0.6448436975479126),\n",
       " ('medication', 0.6346715688705444),\n",
       " ('lorazepam', 0.6234850883483887),\n",
       " ('diazepam', 0.6096578240394592)]"
      ]
     },
     "execution_count": 108,
     "metadata": {},
     "output_type": "execute_result"
    }
   ],
   "source": [
    "embeddings.most_similar(\"dosage\")"
   ]
  },
  {
   "cell_type": "code",
   "execution_count": 117,
   "metadata": {},
   "outputs": [
    {
     "data": {
      "text/plain": [
       "[('higher', 0.9615294337272644),\n",
       " ('larger', 0.8482336401939392),\n",
       " ('smaller', 0.8306859731674194),\n",
       " ('greater', 0.8293726444244385),\n",
       " ('faster', 0.778285026550293),\n",
       " ('slower', 0.7706201076507568),\n",
       " ('less', 0.7581825256347656),\n",
       " ('hotter', 0.7533649206161499),\n",
       " ('weaker', 0.7118234634399414),\n",
       " ('shorter', 0.7113118767738342)]"
      ]
     },
     "execution_count": 117,
     "metadata": {},
     "output_type": "execute_result"
    }
   ],
   "source": [
    "embeddings.most_similar(\"lower\")"
   ]
  },
  {
   "cell_type": "code",
   "execution_count": 119,
   "metadata": {},
   "outputs": [
    {
     "data": {
      "text/plain": [
       "[('chick', 0.8806798458099365),\n",
       " ('embryo', 0.8421338796615601),\n",
       " ('hamster', 0.8413895964622498),\n",
       " ('spleen', 0.830163836479187),\n",
       " ('embryonic', 0.8244233131408691),\n",
       " ('fibroblasts', 0.8156878352165222),\n",
       " ('thymus', 0.8152838945388794),\n",
       " ('chicken', 0.8092774152755737),\n",
       " ('leukocytes', 0.7919324636459351),\n",
       " ('ascites', 0.791671872138977)]"
      ]
     },
     "execution_count": 119,
     "metadata": {},
     "output_type": "execute_result"
    }
   ],
   "source": [
    "embeddings.most_similar(\"mouse\")"
   ]
  },
  {
   "cell_type": "code",
   "execution_count": 121,
   "metadata": {},
   "outputs": [
    {
     "data": {
      "text/plain": [
       "[('faculty', 0.9428253173828125),\n",
       " ('planning', 0.9331449866294861),\n",
       " ('continuing', 0.9328274726867676),\n",
       " ('rehabilitation', 0.9313790798187256),\n",
       " ('item', 0.9312576055526733),\n",
       " ('nurses', 0.9282447099685669),\n",
       " ('professional', 0.9276617765426636),\n",
       " ('team', 0.9270298480987549),\n",
       " ('offering', 0.9269712567329407),\n",
       " ('programme', 0.9234572649002075)]"
      ]
     },
     "execution_count": 121,
     "metadata": {},
     "output_type": "execute_result"
    }
   ],
   "source": [
    "embeddings.most_similar(\"doctor\")"
   ]
  },
  {
   "cell_type": "code",
   "execution_count": 122,
   "metadata": {},
   "outputs": [
    {
     "data": {
      "text/plain": [
       "[('child', 0.869658350944519),\n",
       " ('children', 0.8294508457183838),\n",
       " ('disease', 0.8209226727485657),\n",
       " ('patients', 0.8181960582733154),\n",
       " ('syndrome', 0.8059149980545044),\n",
       " ('symptoms', 0.7952113747596741),\n",
       " ('illness', 0.7797609567642212),\n",
       " ('woman', 0.7770554423332214),\n",
       " ('complication', 0.7749495506286621),\n",
       " ('physician', 0.7711752653121948)]"
      ]
     },
     "execution_count": 122,
     "metadata": {},
     "output_type": "execute_result"
    }
   ],
   "source": [
    "embeddings.most_similar(\"patient\")"
   ]
  },
  {
   "cell_type": "code",
   "execution_count": 123,
   "metadata": {},
   "outputs": [
    {
     "data": {
      "text/plain": [
       "[('humans', 0.7934281826019287),\n",
       " ('testes', 0.7546995878219604),\n",
       " ('quiescence', 0.7312958240509033),\n",
       " ('persons', 0.7307960987091064),\n",
       " ('dog', 0.727771520614624),\n",
       " ('neonate', 0.7184747457504272),\n",
       " ('testicular', 0.7175263166427612),\n",
       " ('animal', 0.7013948559761047),\n",
       " ('cryptorchism', 0.700571596622467),\n",
       " ('boys', 0.6866430044174194)]"
      ]
     },
     "execution_count": 123,
     "metadata": {},
     "output_type": "execute_result"
    }
   ],
   "source": [
    "embeddings.most_similar(\"man\")"
   ]
  },
  {
   "cell_type": "code",
   "execution_count": 124,
   "metadata": {},
   "outputs": [
    {
     "data": {
      "text/plain": [
       "[('girl', 0.9541659355163574),\n",
       " ('boy', 0.937836229801178),\n",
       " ('child', 0.9281169176101685),\n",
       " ('phobia', 0.8958944082260132),\n",
       " ('undescended', 0.8769272565841675),\n",
       " ('infant', 0.8769197463989258),\n",
       " ('recurrent', 0.8762044906616211),\n",
       " ('arthritis', 0.8761972188949585),\n",
       " ('febrile', 0.872424840927124),\n",
       " ('survivors', 0.870413064956665)]"
      ]
     },
     "execution_count": 124,
     "metadata": {},
     "output_type": "execute_result"
    }
   ],
   "source": [
    "embeddings.most_similar(\"woman\")"
   ]
  },
  {
   "cell_type": "code",
   "execution_count": 125,
   "metadata": {},
   "outputs": [
    {
     "data": {
      "text/plain": [
       "[('rna', 0.9284805059432983),\n",
       " ('collagen', 0.7629274129867554),\n",
       " ('protein', 0.7380354404449463),\n",
       " ('phage', 0.7110795974731445),\n",
       " ('polymerase', 0.708604097366333),\n",
       " ('chromatin', 0.6936800479888916),\n",
       " ('stranded', 0.6845724582672119),\n",
       " ('actin', 0.6819810271263123),\n",
       " ('peptidoglycan', 0.6817463636398315),\n",
       " ('ribosomal', 0.6722898483276367)]"
      ]
     },
     "execution_count": 125,
     "metadata": {},
     "output_type": "execute_result"
    }
   ],
   "source": [
    "embeddings.most_similar(\"dna\")"
   ]
  },
  {
   "cell_type": "code",
   "execution_count": null,
   "metadata": {},
   "outputs": [],
   "source": []
  }
 ],
 "metadata": {
  "kernelspec": {
   "display_name": "Python 3",
   "language": "python",
   "name": "python3"
  },
  "language_info": {
   "codemirror_mode": {
    "name": "ipython",
    "version": 3
   },
   "file_extension": ".py",
   "mimetype": "text/x-python",
   "name": "python",
   "nbconvert_exporter": "python",
   "pygments_lexer": "ipython3",
   "version": "3.7.6"
  }
 },
 "nbformat": 4,
 "nbformat_minor": 4
}
