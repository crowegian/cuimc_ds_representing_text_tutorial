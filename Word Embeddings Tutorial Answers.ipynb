{
 "cells": [
  {
   "cell_type": "markdown",
   "metadata": {},
   "source": [
    "# Learning Goal\n",
    "Understand why natural language processing and text representation are important, the different ways to represent text, and how to implement a few simple textual representations"
   ]
  },
  {
   "cell_type": "markdown",
   "metadata": {},
   "source": [
    "# Install Libraries\n",
    "We'll be using the gensim library to learn word embeddings. The commented out lines below are for installing gensim through anaconda and python respectively. "
   ]
  },
  {
   "cell_type": "code",
   "execution_count": 30,
   "metadata": {},
   "outputs": [],
   "source": [
    "# STUDENT TEST RUN\n",
    "from gensim.models import Word2Vec\n",
    "from gensim.summarization.textcleaner import split_sentences, tokenize_by_word\n",
    "import numpy as np\n",
    "# conda install -c anaconda gensim\n",
    "# pip install --upgrade gensim"
   ]
  },
  {
   "cell_type": "markdown",
   "metadata": {},
   "source": [
    "# Testing that our code works\n",
    "This code reads in the raw .xml file from pubmed and parses out some abstracts into a more readable text file."
   ]
  },
  {
   "cell_type": "code",
   "execution_count": 5,
   "metadata": {},
   "outputs": [
    {
     "name": "stdout",
     "output_type": "stream",
     "text": [
      "15437 abstracts processed\n"
     ]
    }
   ],
   "source": [
    "# STUDENT TEST RUN\n",
    "\n",
    "# Process the original pubmed download. This is just so you can see how it's done. We won't work with the xml file.\n",
    "n_abs = 0\n",
    "with open(\"data/pubmed_sample_test.txt\", \"w\") as outfile:\n",
    "    with open(\"data/pubmed20n0001.xml\", \"r\") as pubmed_file:\n",
    "        for line in pubmed_file:\n",
    "            if \"<AbstractText>\" in line:\n",
    "                line = line.strip()# remove leading and trailing whitespace\n",
    "                line = line.replace(\"<AbstractText>\", \"\").replace(\"</AbstractText>\", \"\")# these strings identify \n",
    "                    # when an abstract is present in the xml file.\n",
    "                outfile.write(line + \"\\n\")# write the text to the text file.\n",
    "                n_abs += 1\n",
    "print(n_abs, \"abstracts processed\")"
   ]
  },
  {
   "cell_type": "markdown",
   "metadata": {},
   "source": [
    "# Read in data from file\n",
    "The data is a text file of abstracts separated by new lines. We'll read this data into a list"
   ]
  },
  {
   "cell_type": "code",
   "execution_count": 6,
   "metadata": {},
   "outputs": [
    {
     "name": "stdout",
     "output_type": "stream",
     "text": [
      "15437 abstracts read in\n"
     ]
    }
   ],
   "source": [
    "abstract_list = []\n",
    "with open(\"data/pubmed_sample.txt\", \"r\") as abstract_file:\n",
    "    for line in abstract_file:\n",
    "        abstract_list.append(line.strip())\n",
    "print(len(abstract_list), \"abstracts read in\")\n"
   ]
  },
  {
   "cell_type": "code",
   "execution_count": 7,
   "metadata": {
    "scrolled": true
   },
   "outputs": [
    {
     "name": "stdout",
     "output_type": "stream",
     "text": [
      "(--)-alpha-Bisabolol has a primary antipeptic action depending on dosage, which is not caused by an alteration of the pH-value. The proteolytic activity of pepsin is reduced by 50 percent through addition of bisabolol in the ratio of 1/0.5. The antipeptic action of bisabolol only occurs in case of direct contact. In case of a previous contact with the substrate, the inhibiting effect is lost.\n",
      "***************************************************\n",
      "\n",
      "\n",
      "\n",
      "A report is given on the recent discovery of outstanding immunological properties in BA 1 [N-(2-cyanoethylene)-urea] having a (low) molecular mass M = 111.104. Experiments in 214 DS carcinosarcoma bearing Wistar rats have shown that BA 1, at a dosage of only about 12 percent LD50 (150 mg kg) and negligible lethality (1.7 percent), results in a recovery rate of 40 percent without hyperglycemia and, in one test, of 80 percent with hyperglycemia. Under otherwise unchanged conditions the reference substance ifosfamide (IF) -- a further development of cyclophosphamide -- applied without hyperglycemia in its most efficient dosage of 47 percent LD50 (150 mg kg) brought about a recovery rate of 25 percent at a lethality of 18 percent. (Contrary to BA 1, 250-min hyperglycemia caused no further improvement of the recovery rate.) However this comparison is characterized by the fact that both substances exhibit two quite different (complementary) mechanisms of action. Leucocyte counts made after application of the said cancerostatics and dosages have shown a pronounced stimulation with BA 1 and with ifosfamide, the known suppression in the post-therapeutic interval usually found with standard cancerostatics. In combination with the cited plaque test for BA 1, blood pictures then allow conclusions on the immunity status. Since IF can be taken as one of the most efficient cancerostatics--there is no other chemotherapeutic known up to now that has a more significant effect on the DS carcinosarcoma in rats -- these findings are of special importance. Finally, the total amount of leucocytes and lymphocytes as well as their time behaviour was determined from the blood picture of tumour-free rats after i.v. application of BA 1. The thus obtained numerical values clearly show that further research work on the prophylactic use of this substance seems to be necessary and very promising.\n",
      "***************************************************\n",
      "\n",
      "\n",
      "\n",
      "The distribution of blood flow to the subendocardial, medium and subepicardial layers of the left ventricular free wall was studied in anaesthetized dogs under normoxic (A), hypoxic (B) conditions and under pharmacologically induced (etafenone) coronary vasodilation (C). Regional myocardial blood flow was determined by means of the particle distribution method. In normoxia a transmural gradient of flow was observed, with the subendocardial layers receiving a significantly higher flow rate compared with the subepicardial layers. In hypoxia induced vasodilation this transmural gradient of flow was persistent. In contrast a marked redistribution of regional flow was observed under pharmacologically induced vasodilation. The transmural gradient decreased. In contrast to some findings these experiments demonstrate that a considerable vasodilatory capacity exists in all layers of the myocardium and can be utilized by drugs. The differences observed for the intramural distribution pattern of flow under hypoxia and drug induced vasodilation support the hypothesis that this pattern reflects corresponding gradients of regional myocardial metabolism.\n",
      "***************************************************\n",
      "\n",
      "\n",
      "\n",
      "The virostatic compound N,N-diethyl-4-[2-(2-oxo-3-tetradecyl-1-imidazolidinyl)-ethyl]-1-piperazinecarboxamide-hydrochloride (5531) was analyzed as to its effect on the induction of tryptophan-pyrrolase and tyrosineaminotransferase in rat liver. 1. The basic activity of the enzymes was not influenced by the substance either in normal or in adrenalectomized animals. 2. The induction of the enzymes by cortisone increased in the presence of the compound whereas the substrate induction remained unchanged. 3. The induction of tyrosine-aminotransferase by dexamethasonephosphate in tissue culture is inhibited if the dose of compound 5531 is higher than 5 mug/ml.\n",
      "***************************************************\n",
      "\n",
      "\n",
      "\n",
      "RMI 61 140, RMI 61 144 and RMI 61 280 are newly synthetized N-[8-R-dibenzo(b,f)oxepin-10-yl]-N'-methyl-piperazine-maleates which show interesting psychopharmacologic effects. This work contains the results of a study performed with these three compounds, in order to demonstrate their neuropsycholeptic activity in comparison with chloropromazine (CPZ) and chlordiazepoxide (CPD). The inhibition of motility observed in mice shows that the compounds reduce the normal spontaneous motility as well as the muscle tone. The central-depressant activity is evidenced by increased barbiturate-induced sleep and a remarkable eyelid ptosis can also be observed. Our compounds do not show any activity on electroshock just as do CPZ and CPD. As to the antipsychotic outline, our compounds show strong reduction of lethality due to amphetamine in grouped mice and a strong antiapomorphine activity. They show also an antiaggressive effect and an inhibitory activity on avoidance behaviour much stronger than CPZ. We have also found extrapyramidal effects, as catalepsy, common to many tranquillizers of the kind of the standards used by us. As for vegetative phenomena, the compounds show hypotensive dose related action ranging from moderate to strong, probably due to an a-receptor inhibition. Adrenolytic activity against lethal doses of adrenaline, antiserotonin and antihistaminic effects, as well as other actions (hypothermia, analgesia, etc.) confirm that RMI 61 140, RMI 61 144 and RMI 61 280 are endowed with pharmacologic properties similar and more potent than those of CPZ. Studies on the metabolism of brain catecholamines show that they are similar to CPZ, although with less effect on dopamine level.\n",
      "***************************************************\n",
      "\n",
      "\n",
      "\n"
     ]
    }
   ],
   "source": [
    "for i in range(5):\n",
    "    print(abstract_list[i])\n",
    "    print(\"***************************************************\\n\\n\\n\")"
   ]
  },
  {
   "cell_type": "markdown",
   "metadata": {},
   "source": [
    "# Process our data\n",
    "The next step is processing our abstracts into sentences. Word2vec can work with either sentences to learn the context around words, or with entire documents (abstracts). This is a design choice and up to you. In the next section process the abstracts into sentences and store them in a list where you have one sentence per element in the list. The documentation is in (https://radimrehurek.com/gensim/summarization/textcleaner.html) for the function `split_sentences` which we'll be using\n"
   ]
  },
  {
   "cell_type": "code",
   "execution_count": 8,
   "metadata": {},
   "outputs": [
    {
     "name": "stdout",
     "output_type": "stream",
     "text": [
      "101724 sentences extracted\n"
     ]
    }
   ],
   "source": [
    "sentence_list = []\n",
    "for abstract in abstract_list:\n",
    "    sentences = split_sentences(abstract)\n",
    "    for sentence in sentences:\n",
    "        sentence_list.append(sentence)\n",
    "print(len(sentence_list), \"sentences extracted\")"
   ]
  },
  {
   "cell_type": "code",
   "execution_count": 9,
   "metadata": {},
   "outputs": [
    {
     "name": "stdout",
     "output_type": "stream",
     "text": [
      "(--)-alpha-Bisabolol has a primary antipeptic action depending on dosage, which is not caused by an alteration of the pH-value.\n",
      "***************************************************\n",
      "\n",
      "The proteolytic activity of pepsin is reduced by 50 percent through addition of bisabolol in the ratio of 1/0.5.\n",
      "***************************************************\n",
      "\n",
      "The antipeptic action of bisabolol only occurs in case of direct contact.\n",
      "***************************************************\n",
      "\n",
      "In case of a previous contact with the substrate, the inhibiting effect is lost.\n",
      "***************************************************\n",
      "\n",
      "A report is given on the recent discovery of outstanding immunological properties in BA 1 [N-(2-cyanoethylene)-urea] having a (low) molecular mass M = 111.104.\n",
      "***************************************************\n",
      "\n"
     ]
    }
   ],
   "source": [
    "for i in range(5):\n",
    "    print(sentence_list[i])\n",
    "    print(\"***************************************************\\n\")"
   ]
  },
  {
   "cell_type": "markdown",
   "metadata": {},
   "source": [
    "## Gensim expects each sentence or document as a list of words\n",
    "Gensim works with sentences or documents not as strings, but as lists of words or tokens. So for each sentence and for each abstract we need to convert it into a list of tokens/words. We can use the function `tokenize_by_word`. See documentation (https://radimrehurek.com/gensim/summarization/textcleaner.html)."
   ]
  },
  {
   "cell_type": "code",
   "execution_count": 10,
   "metadata": {},
   "outputs": [],
   "source": [
    "# One more step. Word2Vec expects a lists of text, where each text is a list of tokens, or words.\n",
    "abstract_list_tokenized = []\n",
    "for abstract in abstract_list:\n",
    "    tokens = list(tokenize_by_word(abstract))\n",
    "    abstract_list_tokenized.append(tokens)"
   ]
  },
  {
   "cell_type": "code",
   "execution_count": 11,
   "metadata": {},
   "outputs": [],
   "source": [
    "sentence_list_tokenized = []\n",
    "for sentence in sentence_list:\n",
    "    tokens = list(tokenize_by_word(sentence))\n",
    "    sentence_list_tokenized.append(tokens)"
   ]
  },
  {
   "cell_type": "code",
   "execution_count": 12,
   "metadata": {},
   "outputs": [
    {
     "data": {
      "text/plain": [
       "'(--)-alpha-Bisabolol has a primary antipeptic action depending on dosage, which is not caused by an alteration of the pH-value. The proteolytic activity of pepsin is reduced by 50 percent through addition of bisabolol in the ratio of 1/0.5. The antipeptic action of bisabolol only occurs in case of direct contact. In case of a previous contact with the substrate, the inhibiting effect is lost.'"
      ]
     },
     "execution_count": 12,
     "metadata": {},
     "output_type": "execute_result"
    }
   ],
   "source": [
    "abstract_list[0]"
   ]
  },
  {
   "cell_type": "code",
   "execution_count": 13,
   "metadata": {
    "scrolled": true
   },
   "outputs": [
    {
     "data": {
      "text/plain": [
       "['alpha',\n",
       " 'bisabolol',\n",
       " 'has',\n",
       " 'a',\n",
       " 'primary',\n",
       " 'antipeptic',\n",
       " 'action',\n",
       " 'depending',\n",
       " 'on',\n",
       " 'dosage',\n",
       " 'which',\n",
       " 'is',\n",
       " 'not',\n",
       " 'caused',\n",
       " 'by',\n",
       " 'an',\n",
       " 'alteration',\n",
       " 'of',\n",
       " 'the',\n",
       " 'ph',\n",
       " 'value',\n",
       " 'the',\n",
       " 'proteolytic',\n",
       " 'activity',\n",
       " 'of',\n",
       " 'pepsin',\n",
       " 'is',\n",
       " 'reduced',\n",
       " 'by',\n",
       " 'percent',\n",
       " 'through',\n",
       " 'addition',\n",
       " 'of',\n",
       " 'bisabolol',\n",
       " 'in',\n",
       " 'the',\n",
       " 'ratio',\n",
       " 'of',\n",
       " 'the',\n",
       " 'antipeptic',\n",
       " 'action',\n",
       " 'of',\n",
       " 'bisabolol',\n",
       " 'only',\n",
       " 'occurs',\n",
       " 'in',\n",
       " 'case',\n",
       " 'of',\n",
       " 'direct',\n",
       " 'contact',\n",
       " 'in',\n",
       " 'case',\n",
       " 'of',\n",
       " 'a',\n",
       " 'previous',\n",
       " 'contact',\n",
       " 'with',\n",
       " 'the',\n",
       " 'substrate',\n",
       " 'the',\n",
       " 'inhibiting',\n",
       " 'effect',\n",
       " 'is',\n",
       " 'lost']"
      ]
     },
     "execution_count": 13,
     "metadata": {},
     "output_type": "execute_result"
    }
   ],
   "source": [
    "abstract_list_tokenized[0]"
   ]
  },
  {
   "cell_type": "markdown",
   "metadata": {},
   "source": [
    "# Training word embeddings\n",
    "Using the function `Word2Vec` from gensim we can now train word embeddings. The documentation is in (https://radimrehurek.com/gensim/models/word2vec.html)"
   ]
  },
  {
   "cell_type": "code",
   "execution_count": 14,
   "metadata": {},
   "outputs": [],
   "source": [
    "model_abstract = Word2Vec(\n",
    "                sentences = abstract_list_tokenized, # corpus we're using to train on\n",
    "                size=100, # dimension of the word embeddings\n",
    "                window=5, # max distance between a current and predicted word in a sentence.\n",
    "                min_count=1,# words must occur at least min_count times to be learned.\n",
    "                workers=6, # number of threads to use to train the model.\n",
    "                iter=5, # How many times to iterate through the data\n",
    "                )"
   ]
  },
  {
   "cell_type": "code",
   "execution_count": 15,
   "metadata": {},
   "outputs": [],
   "source": [
    "model_sentence = Word2Vec(\n",
    "                sentences = sentence_list_tokenized, # corpus we're using to train on\n",
    "                size=100, # dimension of the word embeddings\n",
    "                window=5, # max distance between a current and predicted word in a sentence.\n",
    "                min_count=5,# words must occur at least min_count times to be learned.\n",
    "                workers=6, # number of threads to use to train the model.\n",
    "                iter=5, # How many times to iterate through the data\n",
    "                )"
   ]
  },
  {
   "cell_type": "markdown",
   "metadata": {},
   "source": [
    "## Explore trained word embeddings\n",
    "Now we  can explore the word embeddings. Take a look at the embeddings. How many are there? How big are they? Do they make sense?"
   ]
  },
  {
   "cell_type": "code",
   "execution_count": 16,
   "metadata": {},
   "outputs": [],
   "source": [
    "embeddings = model_abstract.wv"
   ]
  },
  {
   "cell_type": "code",
   "execution_count": 17,
   "metadata": {
    "scrolled": true
   },
   "outputs": [
    {
     "data": {
      "text/plain": [
       "(49667, 100)"
      ]
     },
     "execution_count": 17,
     "metadata": {},
     "output_type": "execute_result"
    }
   ],
   "source": [
    "embeddings.vectors.shape"
   ]
  },
  {
   "cell_type": "code",
   "execution_count": 18,
   "metadata": {},
   "outputs": [
    {
     "data": {
      "text/plain": [
       "[('daily', 0.7900731563568115),\n",
       " ('lorazepam', 0.7866021990776062),\n",
       " ('doses', 0.7565786838531494),\n",
       " ('dosages', 0.7515625953674316),\n",
       " ('flunitrazepam', 0.7309408187866211),\n",
       " ('clobazam', 0.7291922569274902),\n",
       " ('dose', 0.7207592129707336),\n",
       " ('medication', 0.7198101282119751),\n",
       " ('diazepam', 0.7167715430259705),\n",
       " ('night', 0.7145477533340454)]"
      ]
     },
     "execution_count": 18,
     "metadata": {},
     "output_type": "execute_result"
    }
   ],
   "source": [
    "embeddings.most_similar(\"dosage\")"
   ]
  },
  {
   "cell_type": "code",
   "execution_count": 19,
   "metadata": {},
   "outputs": [
    {
     "data": {
      "text/plain": [
       "[('higher', 0.9551340937614441),\n",
       " ('larger', 0.8494495153427124),\n",
       " ('smaller', 0.8398783802986145),\n",
       " ('greater', 0.8242799043655396),\n",
       " ('slower', 0.8149850368499756),\n",
       " ('faster', 0.7730324268341064),\n",
       " ('less', 0.7588409185409546),\n",
       " ('weaker', 0.7478044033050537),\n",
       " ('shorter', 0.7442339658737183),\n",
       " ('olds', 0.7146769762039185)]"
      ]
     },
     "execution_count": 19,
     "metadata": {},
     "output_type": "execute_result"
    }
   ],
   "source": [
    "embeddings.most_similar(\"lower\")"
   ]
  },
  {
   "cell_type": "code",
   "execution_count": 20,
   "metadata": {},
   "outputs": [
    {
     "data": {
      "text/plain": [
       "[('chick', 0.8861088752746582),\n",
       " ('embryo', 0.885520339012146),\n",
       " ('chicken', 0.8504881858825684),\n",
       " ('spleen', 0.8464064598083496),\n",
       " ('embryonic', 0.8459387421607971),\n",
       " ('thymus', 0.8300246596336365),\n",
       " ('fibroblasts', 0.8206666111946106),\n",
       " ('hamster', 0.8181971311569214),\n",
       " ('transplantable', 0.812572181224823),\n",
       " ('ascites', 0.8125156164169312)]"
      ]
     },
     "execution_count": 20,
     "metadata": {},
     "output_type": "execute_result"
    }
   ],
   "source": [
    "embeddings.most_similar(\"mouse\")"
   ]
  },
  {
   "cell_type": "code",
   "execution_count": 21,
   "metadata": {},
   "outputs": [
    {
     "data": {
      "text/plain": [
       "[('planning', 0.9345557689666748),\n",
       " ('nurses', 0.930653989315033),\n",
       " ('professional', 0.9247720241546631),\n",
       " ('faculty', 0.9179189801216125),\n",
       " ('dreams', 0.91535484790802),\n",
       " ('item', 0.9147955775260925),\n",
       " ('instruction', 0.9137358665466309),\n",
       " ('ambulatory', 0.9137187600135803),\n",
       " ('chiefly', 0.9132506847381592),\n",
       " ('cardiosurgical', 0.9129608869552612)]"
      ]
     },
     "execution_count": 21,
     "metadata": {},
     "output_type": "execute_result"
    }
   ],
   "source": [
    "embeddings.most_similar(\"doctor\")"
   ]
  },
  {
   "cell_type": "code",
   "execution_count": 22,
   "metadata": {},
   "outputs": [
    {
     "data": {
      "text/plain": [
       "[('child', 0.8291334509849548),\n",
       " ('children', 0.8103070259094238),\n",
       " ('patients', 0.8045302033424377),\n",
       " ('syndrome', 0.8039336204528809),\n",
       " ('illness', 0.7976101040840149),\n",
       " ('complication', 0.7855963706970215),\n",
       " ('disease', 0.7851829528808594),\n",
       " ('symptoms', 0.7780343890190125),\n",
       " ('history', 0.76768958568573),\n",
       " ('diagnosis', 0.7598612308502197)]"
      ]
     },
     "execution_count": 22,
     "metadata": {},
     "output_type": "execute_result"
    }
   ],
   "source": [
    "embeddings.most_similar(\"patient\")"
   ]
  },
  {
   "cell_type": "code",
   "execution_count": 23,
   "metadata": {},
   "outputs": [
    {
     "data": {
      "text/plain": [
       "[('humans', 0.8267447352409363),\n",
       " ('born', 0.7447031736373901),\n",
       " ('animal', 0.7442922592163086),\n",
       " ('dog', 0.7438254356384277),\n",
       " ('selfmedication', 0.731346845626831),\n",
       " ('developing', 0.7291499972343445),\n",
       " ('persons', 0.7241732478141785),\n",
       " ('adults', 0.7154818773269653),\n",
       " ('rhesus', 0.712918221950531),\n",
       " ('fetus', 0.7105545997619629)]"
      ]
     },
     "execution_count": 23,
     "metadata": {},
     "output_type": "execute_result"
    }
   ],
   "source": [
    "embeddings.most_similar(\"man\")"
   ]
  },
  {
   "cell_type": "code",
   "execution_count": 24,
   "metadata": {},
   "outputs": [
    {
     "data": {
      "text/plain": [
       "[('girl', 0.9408396482467651),\n",
       " ('child', 0.9113438725471497),\n",
       " ('boy', 0.9050248861312866),\n",
       " ('undescended', 0.8856906294822693),\n",
       " ('febrile', 0.868108868598938),\n",
       " ('fever', 0.8678246140480042),\n",
       " ('aml', 0.8620784878730774),\n",
       " ('recurrent', 0.8598812818527222),\n",
       " ('blunt', 0.8578423261642456),\n",
       " ('colitis', 0.8576388359069824)]"
      ]
     },
     "execution_count": 24,
     "metadata": {},
     "output_type": "execute_result"
    }
   ],
   "source": [
    "embeddings.most_similar(\"woman\")"
   ]
  },
  {
   "cell_type": "code",
   "execution_count": 25,
   "metadata": {},
   "outputs": [
    {
     "data": {
      "text/plain": [
       "[('rna', 0.9252740144729614),\n",
       " ('collagen', 0.7753475904464722),\n",
       " ('protein', 0.7356704473495483),\n",
       " ('phage', 0.7323349714279175),\n",
       " ('chromatin', 0.7231100797653198),\n",
       " ('peptidoglycan', 0.7049508094787598),\n",
       " ('polymerase', 0.6963043212890625),\n",
       " ('particles', 0.6945540904998779),\n",
       " ('denatured', 0.6872721314430237),\n",
       " ('peroxidase', 0.6838382482528687)]"
      ]
     },
     "execution_count": 25,
     "metadata": {},
     "output_type": "execute_result"
    }
   ],
   "source": [
    "embeddings.most_similar(\"dna\")"
   ]
  },
  {
   "cell_type": "markdown",
   "metadata": {},
   "source": [
    "# Representing text with word embeddings\n",
    "As we saw in the presentation you can represent text as a bag of words with lists of counts or indices, but we can also represent text using hte embeddings we just created.\n",
    "How might we represent the sentence \"The antipeptic action of bisabolol only occurs in case of direct contact\"?"
   ]
  },
  {
   "cell_type": "code",
   "execution_count": 33,
   "metadata": {},
   "outputs": [],
   "source": [
    "text_to_rep = \"The antipeptic action of bisabolol only occurs in case of direct contact\"\n",
    "tokenized_text_rep = tokenize_by_word(text_to_rep)\n",
    "token_rep = np.zeros(100)\n",
    "for token in tokenized_text_rep:\n",
    "    token_rep += embeddings.get_vector(token)"
   ]
  },
  {
   "cell_type": "code",
   "execution_count": 34,
   "metadata": {},
   "outputs": [
    {
     "data": {
      "text/plain": [
       "array([ -6.3173846 ,  -0.48974925,   5.27286469, -12.50651808,\n",
       "        11.54413133,  -0.23772389,  -1.22886669,   1.89218713,\n",
       "         7.49742263,   0.6647285 ,  -2.82737012,  -2.60073211,\n",
       "        -4.02593215,   0.30432927,  -2.42086267,  -2.2361285 ,\n",
       "        -5.62169872,   1.54503212, -11.69214445,  -0.79232608,\n",
       "        -0.33236859,   3.1782889 ,  -6.59507738, -10.04997568,\n",
       "         6.55995556,  -5.80688068,   6.09653857,   3.5436502 ,\n",
       "        -8.05478445,  -2.28972913,   0.91302256,  -6.59270721,\n",
       "        -2.08980044,  -3.78746317,  -0.29013413,  -1.0528254 ,\n",
       "         1.89586251,   3.38953174,  11.10219219,  -3.70852464,\n",
       "         3.25008322,   3.16323836,  -1.11842857,  -4.82449154,\n",
       "         4.96149293,   8.45263036,   3.03171396,  -7.14921184,\n",
       "        -3.80331249,  -3.12980413,   2.81587895,  -1.31853396,\n",
       "         4.72511805,   5.29715664,   0.93269341,  -2.12010075,\n",
       "         4.05143256,   4.38863342,  -1.82183438,   8.66315102,\n",
       "         0.86496164,   6.87171341,  11.20077016,   1.83574552,\n",
       "         1.21178449,  -1.1231793 ,   0.77951959,  -0.25757341,\n",
       "        -2.54889324,  -4.27612383,   5.24433693,  -0.21654585,\n",
       "        -3.10297801,   0.67803323,   6.06624716,  -3.8496706 ,\n",
       "         2.4045995 ,   3.46709686,   4.67167112,   0.66816655,\n",
       "         7.41679967,  -2.55106947,  -1.88691992,   0.27339678,\n",
       "        -7.02418604,   0.19688465,   0.2631522 ,   6.91018181,\n",
       "        -3.06154607,  -2.34753131,  -2.52174109,   0.41032387,\n",
       "         5.05872701,   3.40091691,   4.71761881,  -5.61290638,\n",
       "        -0.08960871,  -4.4814253 ,   2.42732919,  -0.25265185])"
      ]
     },
     "execution_count": 34,
     "metadata": {},
     "output_type": "execute_result"
    }
   ],
   "source": [
    "token_rep"
   ]
  }
 ],
 "metadata": {
  "kernelspec": {
   "display_name": "Python 3",
   "language": "python",
   "name": "python3"
  },
  "language_info": {
   "codemirror_mode": {
    "name": "ipython",
    "version": 3
   },
   "file_extension": ".py",
   "mimetype": "text/x-python",
   "name": "python",
   "nbconvert_exporter": "python",
   "pygments_lexer": "ipython3",
   "version": "3.7.6"
  }
 },
 "nbformat": 4,
 "nbformat_minor": 4
}
